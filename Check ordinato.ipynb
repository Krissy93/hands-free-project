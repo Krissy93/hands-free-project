{
 "cells": [
  {
   "cell_type": "code",
   "execution_count": 1,
   "metadata": {},
   "outputs": [],
   "source": [
    "import numpy as np\n",
    "import cv2\n",
    "\n",
    "K = np.array([[1.06314155e+03, 0.00000000e+00, 9.62163918e+02],\n",
    "              [0.00000000e+00, 1.06450171e+03, 5.40462082e+02],\n",
    "              [0.00000000e+00, 0.00000000e+00, 1.00000000e+00]])\n",
    "D = np.array([[0.04147462, -0.03934306, -0.00013871, -0.00071449, -0.00889901]])\n",
    "\n",
    "\n",
    "# trovate usando in calibrazione l'immagine non antidistorta\n",
    "R = np.array([[ 0.99981412, -0.01682312, -0.00941902],\n",
    "              [ 0.01644207,  0.99909738, -0.03916732],\n",
    "              [ 0.01006943,  0.03900517,  0.99918827]])\n",
    "t = np.array([[-33.05102197], [-15.29010071], [41.22994723]])\n",
    "\n",
    "# trovate usando in calibrazione l'immagine antidistorta\n",
    "Rd = np.array([[ 0.99983156, -0.01274002, -0.01321169],\n",
    "               [ 0.01235797,  0.99951436, -0.02860628],\n",
    "               [ 0.01356972,  0.02843819,  0.99950344]])\n",
    "td = np.array([[-34.2646834], [-15.84329211], [42.18894322]])\n",
    "\n",
    "\n",
    "def px2meters(pt, K, R, t):\n",
    "    ''' Funzione di conversione tra pixel e metri per ottenere la posizione\n",
    "    corretta in metri della posizione rilevata nell'immagine RGB-D. La Kinect\n",
    "    prende (x,y) dall'RGB e (z) dal sensore di profondita', quindi deve essere\n",
    "    calibrato per forza. Calibrazione fatta in MATLAB! Riporto qui le matrici '''\n",
    "\n",
    "    # pt e' px\n",
    "    \n",
    "    K2 = np.linalg.inv(K)\n",
    "    R2 = np.linalg.inv(R)\n",
    "    pt = pt.T\n",
    "\n",
    "    S = K2.dot(pt)\n",
    "    N = S - t\n",
    "    PT = R2.dot(N)\n",
    "    XYZ = PT # in cm\n",
    "    print('Point is: ' + str(XYZ))\n",
    "\n",
    "    return XYZ"
   ]
  },
  {
   "cell_type": "code",
   "execution_count": 2,
   "metadata": {},
   "outputs": [
    {
     "name": "stdout",
     "output_type": "stream",
     "text": [
      "Reference is: [104.69738764 143.43175586]\n"
     ]
    }
   ],
   "source": [
    "reference, _ = cv2.projectPoints(np.array([[0.0, 0.0, 0.0]]), R, t, K, D)\n",
    "reference = reference.flatten()\n",
    "print('Reference is: ' + str(reference))\n",
    "reference = np.array([[int(round(reference[0],0)), int(round(reference[1],0)), 1.0]]) #px coordinates"
   ]
  },
  {
   "cell_type": "code",
   "execution_count": 50,
   "metadata": {},
   "outputs": [],
   "source": [
    "img = cv2.imread('/home/optolab/ur2020_workspace/src/telemove/src/example.png') \n",
    "# immagine di esempio non antidistorta\n",
    "# flip e cut per il mio setup\n",
    "img = cv2.flip(img, 0)\n",
    "img = img[0:900, 520:1650]\n",
    "\n",
    "cv2.circle(img, (int(round(reference[0][0],0)),int(round(reference[0][1],0))), 5, (0,255,0), thickness=-1, lineType=8, shift=0)\n",
    "\n",
    "cv2.imshow('image',img)\n",
    "cv2.waitKey(0)\n",
    "cv2.destroyAllWindows()"
   ]
  },
  {
   "cell_type": "code",
   "execution_count": 51,
   "metadata": {},
   "outputs": [
    {
     "name": "stdout",
     "output_type": "stream",
     "text": [
      "Point is: [[ 32.16716317]\n",
      " [ 12.98991198]\n",
      " [-41.0146406 ]]\n",
      "Point is: [[ 32.17045075]\n",
      " [ 13.11286614]\n",
      " [-41.01872407]]\n",
      "Difference: [[ 0.32875709]\n",
      " [12.29541584]\n",
      " [-0.4083469 ]]\n",
      "[[[104.77696851 272.80744045]]]\n"
     ]
    }
   ],
   "source": [
    "# CHECK DI MISURA\n",
    "ref = px2meters(reference, K, R, t)\n",
    "pt = np.array([[112.0, 275.0, 1.0]])\n",
    "xyz = px2meters(pt, K, R, t)\n",
    "print('Difference: ' + str((xyz-ref)*100))\n",
    "repro, _ = cv2.projectPoints(xyz.T, R, t, K, D)\n",
    "print(repro)"
   ]
  },
  {
   "cell_type": "code",
   "execution_count": 54,
   "metadata": {},
   "outputs": [
    {
     "name": "stdout",
     "output_type": "stream",
     "text": [
      "Reference is: [ 99.75684201 137.88738849]\n"
     ]
    }
   ],
   "source": [
    "img = cv2.imread('/home/optolab/ur2020_workspace/src/telemove/src/calibresult.png')\n",
    "#immagine antidistorta\n",
    "img = cv2.flip(img, 0)\n",
    "img = img[0:900, 520:1650]\n",
    "\n",
    "reference, _ = cv2.projectPoints(np.array([[0.0, 0.0, 0.0]]), Rd, td, K, D)\n",
    "reference = reference.flatten()\n",
    "print('Reference is: ' + str(reference))\n",
    "reference = np.array([[int(round(reference[0],0)), int(round(reference[1],0)), 1.0]]) #px coordinates\n",
    "\n",
    "cv2.circle(img, (int(round(reference[0][0],0)),int(round(reference[0][1],0))), 5, (0,255,0), thickness=-1, lineType=8, shift=0)\n",
    "\n",
    "cv2.imshow('image',img)\n",
    "cv2.waitKey(0)\n",
    "cv2.destroyAllWindows()"
   ]
  },
  {
   "cell_type": "code",
   "execution_count": 63,
   "metadata": {},
   "outputs": [
    {
     "name": "stdout",
     "output_type": "stream",
     "text": [
      "Point is: [[ 33.02220338]\n",
      " [ 14.16537225]\n",
      " [-42.06145587]]\n",
      "Point is: [[ 33.02317031]\n",
      " [ 14.28559119]\n",
      " [-42.06390274]]\n",
      "Difference: [[ 0.09669328]\n",
      " [12.02189455]\n",
      " [-0.24468652]]\n",
      "[ 92.22502474 263.91386834]\n",
      "[ 95.35297    135.99641188]\n"
     ]
    }
   ],
   "source": [
    "# CHECK DI MISURA\n",
    "ref = px2meters(reference, K, Rd, td)\n",
    "pt = np.array([[99.0, 266.0, 1.0]])\n",
    "xyz = px2meters(pt, K, Rd, td)\n",
    "print('Difference: ' + str((xyz-ref)*100))\n",
    "repro1, _ = cv2.projectPoints(xyz.T, Rd, td, K, D)\n",
    "repro1 = repro1.ravel()\n",
    "print(repro1)\n",
    "repro2, _ = cv2.projectPoints(ref.T, Rd, td, K, D)\n",
    "repro2 = repro2.ravel()\n",
    "print(repro2)"
   ]
  },
  {
   "cell_type": "code",
   "execution_count": 68,
   "metadata": {},
   "outputs": [
    {
     "name": "stdout",
     "output_type": "stream",
     "text": [
      "6.774975257126584\n",
      "4.647030000340237\n",
      "2.086131661663387\n",
      "2.003588124906173\n"
     ]
    }
   ],
   "source": [
    "# errore di reproj\n",
    "x1 = pt[0][0] - repro1[0]\n",
    "x2 = reference[0][0] - repro2[0]\n",
    "\n",
    "y1 = pt[0][1] - repro1[1]\n",
    "y2 = reference[0][1] - repro2[1]\n",
    "\n",
    "print(x1)\n",
    "print(x2)\n",
    "print(y1)\n",
    "print(y2)"
   ]
  },
  {
   "cell_type": "code",
   "execution_count": 69,
   "metadata": {},
   "outputs": [],
   "source": [
    "cv2.circle(img, (int(round(repro1[0],0)),int(round(repro1[1],0))), 5, (255,0,0), thickness=-1, lineType=8, shift=0)\n",
    "cv2.circle(img, (int(round(repro2[0],0)),int(round(repro2[1],0))), 5, (255,0,0), thickness=-1, lineType=8, shift=0)\n",
    "\n",
    "cv2.imshow('image',img)\n",
    "cv2.waitKey(0)\n",
    "cv2.destroyAllWindows()"
   ]
  },
  {
   "cell_type": "code",
   "execution_count": null,
   "metadata": {},
   "outputs": [],
   "source": []
  }
 ],
 "metadata": {
  "kernelspec": {
   "display_name": "Python 2",
   "language": "python",
   "name": "python2"
  },
  "language_info": {
   "codemirror_mode": {
    "name": "ipython",
    "version": 2
   },
   "file_extension": ".py",
   "mimetype": "text/x-python",
   "name": "python",
   "nbconvert_exporter": "python",
   "pygments_lexer": "ipython2",
   "version": "2.7.17"
  }
 },
 "nbformat": 4,
 "nbformat_minor": 2
}
