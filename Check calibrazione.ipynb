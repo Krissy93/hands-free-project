{
 "cells": [
  {
   "cell_type": "code",
   "execution_count": 1,
   "metadata": {},
   "outputs": [],
   "source": [
    "import numpy as np\n",
    "import cv2"
   ]
  },
  {
   "cell_type": "code",
   "execution_count": 31,
   "metadata": {},
   "outputs": [],
   "source": [
    "img = cv2.imread('/home/optolab/ur2020_workspace/src/telemove/src/saved/img_1.png')\n",
    "#img = cv2.flip(img, 0)\n",
    "#img = cv2.flip(img, 1)"
   ]
  },
  {
   "cell_type": "code",
   "execution_count": 3,
   "metadata": {},
   "outputs": [],
   "source": [
    "'''img (CvArr) – Image where the circle is drawn\n",
    "center (CvPoint) – Center of the circle\n",
    "radius (int) – Radius of the circle\n",
    "color (CvScalar) – Circle color\n",
    "thickness (int) – Thickness of the circle outline if positive, otherwise this indicates that a filled circle is to be drawn\n",
    "lineType (int) – Type of the circle boundary, see Line description\n",
    "shift (int) – Number of fractional bits in the center coordinates and radius value'''\n",
    "\n",
    "cv2.circle(img, (112,107), 5, (0,0,255), thickness=-1, lineType=8, shift=0)\n",
    "cv2.circle(img, (137,107), 5, (0,0,255), thickness=-1, lineType=8, shift=0)\n",
    "cv2.circle(img, (113,105), 5, (0,255,0), thickness=-1, lineType=8, shift=0)\n",
    "# (112,107)\n",
    "# (137,107)\n",
    "cv2.imshow('image',img)\n",
    "cv2.waitKey(0)\n",
    "cv2.destroyAllWindows()"
   ]
  },
  {
   "cell_type": "code",
   "execution_count": 5,
   "metadata": {},
   "outputs": [],
   "source": [
    "# intrinsic matrix\n",
    "\n",
    "K = np.array([[1.06314129e+03, 0.00000000e+00, 9.62163539e+02],\n",
    "              [0.00000000e+00, 1.06450150e+03, 5.38537956e+02],\n",
    "              [0.00000000e+00, 0.00000000e+00, 1.00000000e+00]])\n",
    "D = np.array([[ 0.04147518, -0.0393437,   0.00013869, -0.00071462, -0.00889844]])\n",
    "R = np.array([[ 0.99965889, -0.01399777, -0.02204921],\n",
    "              [ 0.01331178,  0.99943206, -0.03095737],\n",
    "              [ 0.02247002,  0.03065329,  0.99927748]])\n",
    "t = np.array([[-33.35386641], [-16.99836057], [ 41.93586922]])\n",
    "Rt = np.array([[0.99965889, -0.01399777, -0.02204921, -33.35386641],\n",
    "              [0.01331178,  0.99943206, -0.03095737, -16.99836057],\n",
    "              [0.02247002,  0.03065329,  0.99927748, 41.93586922]])\n",
    "\n",
    "reference, _ = cv2.projectPoints(np.array([[0.0, 0.0, 0.0]]), R, t, K, D)\n",
    "reference = reference.flatten()\n",
    "reference = np.array([[reference[0], reference[1], 1.0]])\n",
    "\n",
    "\n",
    "\n",
    "\n",
    "'''K = np.array([[1058.70943117763, 0.0, 966.890434497565],\n",
    "             [0.0, 1061.39848586722, 537.457947049765],\n",
    "             [0.0, 0.0, 1.0]])\n",
    "# rotation matrix R\n",
    "R = np.array([[0.999627752961109, -0.0212705783300841, -0.0170856081960356],\n",
    "              [0.0199628781001384, 0.997105046192065, -0.0733690013307973],\n",
    "              [0.0185967472393344, 0.0730006120236213, 0.997158498753479]])\n",
    "# translation matrix t\n",
    "t = np.array([[-311.795183459492, -367.888491366132, 986.881541982339]])\n",
    "t = t.T\n",
    "\n",
    "Rt = np.array([[0.999627752961109, -0.0212705783300841, -0.0170856081960356, -311.795183459492],\n",
    "              [0.0199628781001384, 0.997105046192065, -0.0733690013307973, -367.888491366132],\n",
    "              [0.0185967472393344, 0.0730006120236213, 0.997158498753479, 986.881541982339]])\n",
    "\n",
    "Rt2 = np.array([[0.999627752961109, -0.0212705783300841, -0.0170856081960356],\n",
    "               [0.0199628781001384, 0.997105046192065, -0.0733690013307973],\n",
    "               [0.0185967472393344, 0.0730006120236213, 0.997158498753479],\n",
    "               [-311.795183459492, -367.888491366132, 986.881541982339]])'''\n",
    "\n",
    "#pt = np.array([[1315.0, 283.0, 1.0]])\n",
    "#pt2 = np.array([[1215.0 ,283.0, 1.0]])\n",
    "pt = np.array([[112.0, 131.0, 1.0]])\n",
    "pt2 = np.array([[137.0 ,107.0, 1.0]])\n",
    "pt3 = np.array([[0.0, 0.0, 0.0]]) # corrisponde a pt4 trovato con project\n",
    "pt4 = np.array([[112.67342515, 105.18766658, 1.0]])"
   ]
  },
  {
   "cell_type": "code",
   "execution_count": 292,
   "metadata": {},
   "outputs": [],
   "source": [
    "pt = pt.T\n",
    "pt2 = pt2.T\n",
    "K2 = np.linalg.inv(K)\n",
    "R2 = np.linalg.inv(R)"
   ]
  },
  {
   "cell_type": "code",
   "execution_count": 293,
   "metadata": {},
   "outputs": [],
   "source": [
    "S = K2.dot(pt)\n",
    "N = S - t\n",
    "PT = R2.dot(N)"
   ]
  },
  {
   "cell_type": "code",
   "execution_count": 294,
   "metadata": {},
   "outputs": [],
   "source": [
    "S = K2.dot(pt2)\n",
    "N = S - t\n",
    "PT2 = R2.dot(N)"
   ]
  },
  {
   "cell_type": "code",
   "execution_count": 295,
   "metadata": {},
   "outputs": [],
   "source": [
    "S = K2.dot(pt4.T)\n",
    "N = S - t\n",
    "PT3 = R2.dot(N)"
   ]
  },
  {
   "cell_type": "code",
   "execution_count": 297,
   "metadata": {},
   "outputs": [
    {
     "name": "stdout",
     "output_type": "stream",
     "text": [
      "[[ 31.8444427 ]\n",
      " [ 14.89557434]\n",
      " [-42.13845872]]\n",
      "[[ 31.86764978]\n",
      " [ 14.87271222]\n",
      " [-42.13827926]]\n",
      "[[ 31.84475313]\n",
      " [ 14.87133096]\n",
      " [-42.13772203]]\n",
      "[[-0.03104258]\n",
      " [ 2.42433777]\n",
      " [-0.07366963]]\n",
      "[[ 2.28966475]\n",
      " [ 0.13812574]\n",
      " [-0.05572308]]\n"
     ]
    }
   ],
   "source": [
    "print(PT)\n",
    "print(PT2)\n",
    "print(PT3)\n",
    "\n",
    "#PT2 - PT\n",
    "print((PT - PT3)*100)\n",
    "print((PT2 - PT3)*100)"
   ]
  },
  {
   "cell_type": "code",
   "execution_count": 251,
   "metadata": {},
   "outputs": [
    {
     "ename": "ValueError",
     "evalue": "shapes (3,4) and (3,1) not aligned: 4 (dim 1) != 3 (dim 0)",
     "output_type": "error",
     "traceback": [
      "\u001b[0;31m---------------------------------------------------------------------------\u001b[0m",
      "\u001b[0;31mValueError\u001b[0m                                Traceback (most recent call last)",
      "\u001b[0;32m<ipython-input-251-66c6903565d3>\u001b[0m in \u001b[0;36m<module>\u001b[0;34m()\u001b[0m\n\u001b[0;32m----> 1\u001b[0;31m \u001b[0mC\u001b[0m \u001b[0;34m=\u001b[0m \u001b[0mRt\u001b[0m\u001b[0;34m.\u001b[0m\u001b[0mdot\u001b[0m\u001b[0;34m(\u001b[0m\u001b[0mpt3\u001b[0m\u001b[0;34m.\u001b[0m\u001b[0mT\u001b[0m\u001b[0;34m)\u001b[0m\u001b[0;34m\u001b[0m\u001b[0m\n\u001b[0m\u001b[1;32m      2\u001b[0m \u001b[0mC3\u001b[0m \u001b[0;34m=\u001b[0m \u001b[0mK\u001b[0m\u001b[0;34m.\u001b[0m\u001b[0mdot\u001b[0m\u001b[0;34m(\u001b[0m\u001b[0mC\u001b[0m\u001b[0;34m)\u001b[0m\u001b[0;34m\u001b[0m\u001b[0m\n\u001b[1;32m      3\u001b[0m \u001b[0;32mprint\u001b[0m\u001b[0;34m(\u001b[0m\u001b[0mC3\u001b[0m\u001b[0;34m)\u001b[0m\u001b[0;34m\u001b[0m\u001b[0m\n",
      "\u001b[0;31mValueError\u001b[0m: shapes (3,4) and (3,1) not aligned: 4 (dim 1) != 3 (dim 0)"
     ]
    }
   ],
   "source": [
    "C = pt3.dot(Rt)\n",
    "C3 = K.dot(C)\n",
    "print(C3)"
   ]
  },
  {
   "cell_type": "code",
   "execution_count": 301,
   "metadata": {},
   "outputs": [],
   "source": [
    "imgpts, jac = cv2.projectPoints(pt3, R, t, K, D)"
   ]
  },
  {
   "cell_type": "code",
   "execution_count": 5,
   "metadata": {},
   "outputs": [],
   "source": [
    "########qui\n",
    "def px2meters(pt, reference, K, R, t):\n",
    "    ''' Funzione di conversione tra pixel e metri per ottenere la posizione\n",
    "    corretta in metri della posizione rilevata nell'immagine RGB-D. La Kinect\n",
    "    prende (x,y) dall'RGB e (z) dal sensore di profondita', quindi deve essere\n",
    "    calibrato per forza. Calibrazione fatta in MATLAB! Riporto qui le matrici '''\n",
    "\n",
    "    # pt e' px\n",
    "    \n",
    "    K2 = np.linalg.inv(K)\n",
    "    R2 = np.linalg.inv(R)\n",
    "    pt = pt.T\n",
    "\n",
    "    S = K2.dot(pt)\n",
    "    print('S = K-1 * pt: \\n' + str(S))\n",
    "    N = S - t\n",
    "    print('N = S - t: \\n' + str(N))\n",
    "    PT = R2.dot(N)\n",
    "    print('PT = R-1 * N: \\n' + str(PT)) \n",
    "    print(reference)\n",
    "    XYZ = PT # in cm\n",
    "\n",
    "    return XYZ"
   ]
  },
  {
   "cell_type": "code",
   "execution_count": 18,
   "metadata": {},
   "outputs": [],
   "source": [
    "ptr = np.array([[69.0, 243.0, 1.0]]) #pixel\n",
    "#513.0, 241.0, 1.0"
   ]
  },
  {
   "cell_type": "code",
   "execution_count": 38,
   "metadata": {},
   "outputs": [
    {
     "name": "stdout",
     "output_type": "stream",
     "text": [
      "[[ 69.]\n",
      " [243.]\n",
      " [  1.]]\n",
      "[[-0.84011744]\n",
      " [-0.27763038]\n",
      " [ 1.        ]]\n",
      "[[ 33.2503098 ]\n",
      " [ 18.60576244]\n",
      " [-40.79492695]]\n",
      "[[ 31.93997964]\n",
      " [ 16.57912217]\n",
      " [-42.67263688]]\n",
      "[[93.03087507 56.98615768  1.        ]]\n"
     ]
    },
    {
     "data": {
      "text/plain": [
       "array([[-61.09089544],\n",
       "       [-40.40703551],\n",
       "       [-43.67263688]])"
      ]
     },
     "execution_count": 38,
     "metadata": {},
     "output_type": "execute_result"
    }
   ],
   "source": [
    "px2meters(ptr, reference, K, R, t)"
   ]
  },
  {
   "cell_type": "code",
   "execution_count": 43,
   "metadata": {},
   "outputs": [
    {
     "name": "stdout",
     "output_type": "stream",
     "text": [
      "[[[ 76.9499687  154.63142064]]]\n"
     ]
    }
   ],
   "source": [
    "pte, _ = cv2.projectPoints(np.array([[32.91246167, 17.37687301, -42.8673002]]), R, t, K, D)\n",
    "print(pte)"
   ]
  },
  {
   "cell_type": "code",
   "execution_count": 15,
   "metadata": {},
   "outputs": [
    {
     "name": "stdout",
     "output_type": "stream",
     "text": [
      "Reference system in pixel coordinates: [93.03087507 56.98615768]\n",
      "Reference system NOT DISTORTED in pixel coordinates: [95.0022963 57.5848488]\n",
      "Difference between projected and refined: [[-15.0941063 -10.4333488   0.       ]]\n",
      "To measure: [[ 91.38663813 261.30057004   1.        ]]\n",
      "measured point: [[ -3.61565817 203.71572124   0.        ]]\n"
     ]
    }
   ],
   "source": [
    "K = np.array([[1.06314129e+03, 0.00000000e+00, 9.62163539e+02],\n",
    "              [0.00000000e+00, 1.06450150e+03, 5.38537956e+02],\n",
    "              [0.00000000e+00, 0.00000000e+00, 1.00000000e+00]])\n",
    "Kopt = np.array([[1.04808667e+03, 0.00000000e+00, 9.59995485e+02],\n",
    "                 [0.00000000e+00, 1.04803015e+03, 5.38729787e+02],\n",
    "                 [0.00000000e+00, 0.00000000e+00, 1.00000000e+00]])\n",
    "D = np.array([[ 0.04147518, -0.0393437, 0.00013869, -0.00071462, -0.00889844]])\n",
    "Dnull = np.array([[ 0.0, 0.0, 0.0, 0.0, 0.0]])\n",
    "\n",
    "\n",
    "\n",
    "RD = np.array([[0.99916424, -0.01386533, -0.03845227],\n",
    "             [0.01251816,  0.99930691, -0.03505704],\n",
    "             [0.0389117,   0.03454639,  0.9986453]])\n",
    "tD = np.array([[-35.12119381], [-19.63899217], [41.9282398]])\n",
    "\n",
    "\n",
    "R = np.array([[ 0.99918976, -0.01526008, -0.03724185],\n",
    "              [ 0.01386541,  0.99920327, -0.03742418],\n",
    "              [ 0.03778327,  0.03687748,  0.99860527]])\n",
    "t = np.array([[-34.09042724], [-18.88339282], [ 41.79492695]])\n",
    "\n",
    "    \n",
    "reference, _ = cv2.projectPoints(np.array([[0.0, 0.0, 0.0]]), R, t, K, D)\n",
    "reference = reference.flatten()\n",
    "print('Reference system in pixel coordinates: ' +str(reference))\n",
    "reference, _ = cv2.projectPoints(np.array([[0.0, 0.0, 0.0]]), R, t, K, Dnull)\n",
    "reference = reference.flatten()\n",
    "print('Reference system NOT DISTORTED in pixel coordinates: ' +str(reference))\n",
    "reference = np.array([[reference[0], reference[1], 1.0]]) #px\n",
    "newref = np.array([[79.90819, 47.1515, 1.0]]) \n",
    "print('Difference between projected and refined: ' + str(newref - reference))\n",
    "\n",
    "ptmeasure, _ = cv2.projectPoints(np.array([[0.0, 8.0, 0.0]]), R, t, K, D)\n",
    "ptmeasure = ptmeasure.flatten()\n",
    "ptmeasure = np.array([[ptmeasure[0], ptmeasure[1], 1.0]]) #px\n",
    "print('To measure: ' + str(ptmeasure))\n",
    "print('measured point: ' + str(ptmeasure - reference))"
   ]
  },
  {
   "cell_type": "code",
   "execution_count": 13,
   "metadata": {},
   "outputs": [
    {
     "name": "stdout",
     "output_type": "stream",
     "text": [
      "[[-1.49090069e-01]\n",
      " [ 5.02785717e+00]\n",
      " [ 5.49560397e-15]]\n",
      "[[-7.61238739e-02]\n",
      " [-2.02838087e-02]\n",
      " [ 1.78676518e-16]]\n",
      "[[-7.29661952e-02]\n",
      " [ 5.04814098e+00]\n",
      " [ 5.31692745e-15]]\n"
     ]
    }
   ],
   "source": [
    "pt = np.array([[93.0, 187.0, 1.0]]) #image point\n",
    "ref = np.array([[93.0, 57.0, 1.0]])\n",
    "\n",
    "def prova(pt, K, R, t):\n",
    "    R2 = np.linalg.inv(R)\n",
    "    K2 = np.linalg.inv(K)\n",
    "    temp = R2.dot(K2) #3x3\n",
    "    temp = temp.dot(pt.T) #3x3 x 3x1\n",
    "\n",
    "    temp2 = R2.dot(t)\n",
    "    s = 0 + temp2[-1]\n",
    "    s = s/temp[-1]\n",
    "    #print(s)\n",
    "\n",
    "    world = s*K2\n",
    "    #world = K2\n",
    "    world = world.dot(pt.T) - t\n",
    "    world = R2.dot(world)\n",
    "    print(world)\n",
    "    return world\n",
    "    \n",
    "uno = prova(pt,K,R,t)\n",
    "due = prova(ref,K,R,t)\n",
    "print((uno-due))\n",
    "\n",
    "#SBAGLIATA"
   ]
  },
  {
   "cell_type": "code",
   "execution_count": 9,
   "metadata": {},
   "outputs": [
    {
     "name": "stdout",
     "output_type": "stream",
     "text": [
      "S = K-1 * pt: \n",
      "[[-0.81754283]\n",
      " [-0.45236005]\n",
      " [ 1.        ]]\n",
      "N = S - t: \n",
      "[[ 33.27288441]\n",
      " [ 18.43103277]\n",
      " [-40.79492695]]\n",
      "PT = R-1 * N: \n",
      "[[ 31.96011326]\n",
      " [ 16.40418721]\n",
      " [-42.66693848]]\n",
      "[[93.03087507 56.98615768  1.        ]]\n",
      "S = K-1 * pt: \n",
      "[[-0.81754283]\n",
      " [-0.33023716]\n",
      " [ 1.        ]]\n",
      "N = S - t: \n",
      "[[ 33.27288441]\n",
      " [ 18.55315566]\n",
      " [-40.79492695]]\n",
      "PT = R-1 * N: \n",
      "[[ 31.96180654]\n",
      " [ 16.52621281]\n",
      " [-42.67150883]]\n",
      "[[93.03087507 56.98615768  1.        ]]\n",
      "Difference: [[ 0.1693284 ]\n",
      " [12.20255922]\n",
      " [-0.45703485]]\n"
     ]
    }
   ],
   "source": [
    "pt = np.array([[93.0, 57.0, 1.0]])\n",
    "ref = px2meters(pt, reference, K, R, t)\n",
    "pt = np.array([[93.0, 187.0, 1.0]])\n",
    "xyz = px2meters(pt, reference, K, R, t)\n",
    "print('Difference: ' + str((xyz-ref)*100))"
   ]
  },
  {
   "cell_type": "code",
   "execution_count": 17,
   "metadata": {},
   "outputs": [],
   "source": [
    "img = cv2.imread('/home/optolab/ur2020_workspace/src/telemove/src/saved/img_1.png') #antidistorta\n",
    "#img = cv2.flip(img, 0)\n",
    "#img = img[230:830, 540:1450]\n",
    "cv2.circle(img, (93, 57), 5, (0,255,0), thickness=-1, lineType=8, shift=0)\n",
    "cv2.circle(img, (93, 187), 5, (255,0,0), thickness=-1, lineType=8, shift=0)\n",
    "cv2.circle(img, (95, 58), 5, (255,0,0), thickness=-1, lineType=8, shift=0)\n",
    "\n",
    "cv2.imshow('image',img)\n",
    "cv2.waitKey(0)\n",
    "cv2.destroyAllWindows()"
   ]
  },
  {
   "cell_type": "code",
   "execution_count": 44,
   "metadata": {},
   "outputs": [],
   "source": [
    "pt = np.array([[22.5, 0.0]])\n",
    "#b1 = 0.38, -0.04"
   ]
  },
  {
   "cell_type": "code",
   "execution_count": 45,
   "metadata": {},
   "outputs": [],
   "source": [
    "RW = np.array([[-0.0001, 0.0100], [-0.0100, -0.0001]])\n",
    "tW = np.array([[-0.0457],[0.3835]])\n",
    "Pr = RW.dot(pt.T)\n",
    "Pr = Pr + tW"
   ]
  },
  {
   "cell_type": "code",
   "execution_count": 46,
   "metadata": {},
   "outputs": [
    {
     "data": {
      "text/plain": [
       "array([[-0.04795],\n",
       "       [ 0.1585 ]])"
      ]
     },
     "execution_count": 46,
     "metadata": {},
     "output_type": "execute_result"
    }
   ],
   "source": [
    "Pr"
   ]
  },
  {
   "cell_type": "code",
   "execution_count": null,
   "metadata": {},
   "outputs": [],
   "source": []
  }
 ],
 "metadata": {
  "kernelspec": {
   "display_name": "Python 2",
   "language": "python",
   "name": "python2"
  },
  "language_info": {
   "codemirror_mode": {
    "name": "ipython",
    "version": 2
   },
   "file_extension": ".py",
   "mimetype": "text/x-python",
   "name": "python",
   "nbconvert_exporter": "python",
   "pygments_lexer": "ipython2",
   "version": "2.7.17"
  }
 },
 "nbformat": 4,
 "nbformat_minor": 2
}
